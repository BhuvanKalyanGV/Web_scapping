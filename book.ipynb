{
  "nbformat": 4,
  "nbformat_minor": 0,
  "metadata": {
    "colab": {
      "provenance": [],
      "authorship_tag": "ABX9TyO63P0j6SQ7SyE+uSw7tCOm",
      "include_colab_link": true
    },
    "kernelspec": {
      "name": "python3",
      "display_name": "Python 3"
    },
    "language_info": {
      "name": "python"
    }
  },
  "cells": [
    {
      "cell_type": "markdown",
      "metadata": {
        "id": "view-in-github",
        "colab_type": "text"
      },
      "source": [
        "<a href=\"https://colab.research.google.com/github/BhuvanKalyanGV/Web_scapping/blob/main/book.ipynb\" target=\"_parent\"><img src=\"https://colab.research.google.com/assets/colab-badge.svg\" alt=\"Open In Colab\"/></a>"
      ]
    },
    {
      "cell_type": "code",
      "execution_count": null,
      "metadata": {
        "id": "Z6Hvo2TZHrAP"
      },
      "outputs": [],
      "source": [
        "import requests\n",
        "from bs4 import BeautifulSoup\n",
        "import pandas as pd\n",
        "books=[]\n",
        "for i in range(1,51):\n",
        "  url=f\"https://books.toscrape.com/catalogue/page-{i}.html\"\n",
        "  response = requests.get(url)\n",
        "  response=response.content\n",
        "  soup=BeautifulSoup(response,'html.parser')\n",
        "  ol=soup.find('ol')\n",
        "  articles=ol.find_all('article',class_='product_pod')\n",
        "\n",
        "  for article in articles:\n",
        "    image=article.find('img')\n",
        "    title=image.attrs['alt']\n",
        "    star=article.find('p')\n",
        "    star=star['class'][1]\n",
        "    price=article.find('p',class_='price_color').text\n",
        "    books.append([title,price,star])\n",
        "\n",
        "df=pd.DataFrame(books, columns=['Title','Price','Star Rating'])\n",
        "df.to_csv('books.csv')"
      ]
    }
  ]
}