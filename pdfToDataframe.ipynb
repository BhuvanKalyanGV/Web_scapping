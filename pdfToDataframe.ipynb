{
  "nbformat": 4,
  "nbformat_minor": 0,
  "metadata": {
    "colab": {
      "provenance": [],
      "authorship_tag": "ABX9TyO/BJXeMfIQ5jtxzofjeYvO",
      "include_colab_link": true
    },
    "kernelspec": {
      "name": "python3",
      "display_name": "Python 3"
    },
    "language_info": {
      "name": "python"
    }
  },
  "cells": [
    {
      "cell_type": "markdown",
      "metadata": {
        "id": "view-in-github",
        "colab_type": "text"
      },
      "source": [
        "<a href=\"https://colab.research.google.com/github/BhuvanKalyanGV/Web_scapping/blob/main/pdfToDataframe.ipynb\" target=\"_parent\"><img src=\"https://colab.research.google.com/assets/colab-badge.svg\" alt=\"Open In Colab\"/></a>"
      ]
    },
    {
      "cell_type": "code",
      "execution_count": null,
      "metadata": {
        "colab": {
          "base_uri": "https://localhost:8080/"
        },
        "id": "EKZmYPABGJYI",
        "outputId": "c1a38402-319d-48b2-a1c1-06a9d41ffc7d"
      },
      "outputs": [
        {
          "output_type": "stream",
          "name": "stdout",
          "text": [
            "Collecting tabula-py\n",
            "  Downloading tabula_py-2.10.0-py3-none-any.whl.metadata (7.6 kB)\n",
            "Requirement already satisfied: pandas in /usr/local/lib/python3.10/dist-packages (2.2.2)\n",
            "Requirement already satisfied: numpy>1.24.4 in /usr/local/lib/python3.10/dist-packages (from tabula-py) (1.26.4)\n",
            "Requirement already satisfied: distro in /usr/local/lib/python3.10/dist-packages (from tabula-py) (1.9.0)\n",
            "Requirement already satisfied: python-dateutil>=2.8.2 in /usr/local/lib/python3.10/dist-packages (from pandas) (2.8.2)\n",
            "Requirement already satisfied: pytz>=2020.1 in /usr/local/lib/python3.10/dist-packages (from pandas) (2024.2)\n",
            "Requirement already satisfied: tzdata>=2022.7 in /usr/local/lib/python3.10/dist-packages (from pandas) (2024.2)\n",
            "Requirement already satisfied: six>=1.5 in /usr/local/lib/python3.10/dist-packages (from python-dateutil>=2.8.2->pandas) (1.17.0)\n",
            "Downloading tabula_py-2.10.0-py3-none-any.whl (12.0 MB)\n",
            "\u001b[2K   \u001b[90m━━━━━━━━━━━━━━━━━━━━━━━━━━━━━━━━━━━━━━━━\u001b[0m \u001b[32m12.0/12.0 MB\u001b[0m \u001b[31m87.5 MB/s\u001b[0m eta \u001b[36m0:00:00\u001b[0m\n",
            "\u001b[?25h"
          ]
        }
      ],
      "source": [
        "pip install tabula-py pandas\n"
      ]
    },
    {
      "cell_type": "code",
      "source": [
        "pip install camelot-py"
      ],
      "metadata": {
        "id": "P9eXiX1JGNyR"
      },
      "execution_count": null,
      "outputs": []
    },
    {
      "cell_type": "code",
      "source": [
        "import requests\n",
        "import tempfile\n",
        "import os\n",
        "import camelot\n",
        "import pandas as pd\n",
        "from openpyxl import load_workbook\n",
        "from openpyxl.styles import Font\n",
        "\n",
        "# Download the PDF file\n",
        "url = \"https://download.terna.it/terna/Monthly%20Report%20on%20the%20Electricity%20System_December_23_EN_8dc1dc5bc60e6a5.pdf\"\n",
        "response = requests.get(url)\n",
        "\n",
        "# Save the PDF to a temporary file\n",
        "with tempfile.TemporaryDirectory() as tmp_dir:\n",
        "    pdf_path = os.path.join(tmp_dir, \"temp.pdf\")\n",
        "    with open(pdf_path, \"wb\") as f:\n",
        "        f.write(response.content)\n",
        "\n",
        "    # Extract tables from specific pages (9) using Camelot\n",
        "    tables = camelot.read_pdf(pdf_path, pages='9', flavor='stream')\n",
        "\n",
        "    # Create a new Excel file\n",
        "    excel_file = \"Monthly Report on the Electricity System December 2023.xlsx\"\n",
        "    writer = pd.ExcelWriter(excel_file, engine='openpyxl')\n",
        "\n",
        "    # Define the desired sheet names\n",
        "    sheet_names = [\"2023 Historical Monthly Energy Balance Sheet\", \"2022 Historical Monthly Energy Balance Sheet\"]\n",
        "\n",
        "    # Loop through the extracted tables and write them to respective sheets\n",
        "    for idx, table in enumerate(tables):\n",
        "        # Extract table headers\n",
        "        headers = table.df.columns.tolist()\n",
        "\n",
        "        # Use the predefined sheet name\n",
        "        sheet_name = sheet_names[idx]\n",
        "\n",
        "        # Write the table to the specified sheet, excluding the first row\n",
        "        table.df.iloc[1:].to_excel(writer, sheet_name=sheet_name, index=False, header=False)\n",
        "\n",
        "        # Load the sheet and bold the first row (column names)\n",
        "        sheet = writer.sheets[sheet_name]\n",
        "        for cell in sheet[1]:\n",
        "            cell.font = Font(bold=True)\n",
        "\n",
        "    # Save the Excel file\n",
        "    if not writer.book.worksheets:\n",
        "        # Create a default sheet if no sheets are present\n",
        "        writer.book.create_sheet()\n",
        "    writer.book.save(excel_file)"
      ],
      "metadata": {
        "id": "qHWoavAcGQAh"
      },
      "execution_count": null,
      "outputs": []
    }
  ]
}