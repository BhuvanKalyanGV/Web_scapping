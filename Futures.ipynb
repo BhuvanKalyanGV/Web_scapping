{
  "nbformat": 4,
  "nbformat_minor": 0,
  "metadata": {
    "colab": {
      "provenance": [],
      "authorship_tag": "ABX9TyP+fpVWo+96bxIln6m0UzFY",
      "include_colab_link": true
    },
    "kernelspec": {
      "name": "python3",
      "display_name": "Python 3"
    },
    "language_info": {
      "name": "python"
    }
  },
  "cells": [
    {
      "cell_type": "markdown",
      "metadata": {
        "id": "view-in-github",
        "colab_type": "text"
      },
      "source": [
        "<a href=\"https://colab.research.google.com/github/BhuvanKalyanGV/Web_scapping/blob/main/Futures.ipynb\" target=\"_parent\"><img src=\"https://colab.research.google.com/assets/colab-badge.svg\" alt=\"Open In Colab\"/></a>"
      ]
    },
    {
      "cell_type": "code",
      "execution_count": null,
      "metadata": {
        "id": "KdE7YfNRHAhY"
      },
      "outputs": [],
      "source": [
        "!pip install selenium"
      ]
    },
    {
      "cell_type": "code",
      "source": [
        "!pip install undetected-chromedriver"
      ],
      "metadata": {
        "id": "34YihCc2HOjS"
      },
      "execution_count": null,
      "outputs": []
    },
    {
      "cell_type": "code",
      "source": [
        "import requests\n",
        "from bs4 import BeautifulSoup\n",
        "import pandas as pd\n",
        "\n",
        "# Send a GET request to the website\n",
        "url = \"https://www.eex.com/en/market-data/natural-gas/futures\"\n",
        "response = requests.get(url)\n",
        "soup = BeautifulSoup(response.content, 'html.parser')\n",
        "\n",
        "# Extract gas types from the dropdown menu\n",
        "gas_types = []\n",
        "select_tag = soup.find('select', {'class': 'selectpicker'})\n",
        "for option in select_tag.find_all('option'):\n",
        "    gas_types.append({'name': option.text, 'value': option['value']})\n",
        "\n",
        "# Display the list of gas types to the user\n",
        "print(\"Select a gas type by entering the corresponding integer value:\")\n",
        "for i, gas_type in enumerate(gas_types):\n",
        "    print(f\"{i+1}. {gas_type['name']} - Value: {gas_type['value']}\")\n",
        "\n",
        "# Get user input for the gas type value\n",
        "gas_type_value = int(input(\"Enter the gas type value: \"))\n",
        "\n",
        "# Load the URL with the selected gas type value\n",
        "selected_gas_type = next(gas_type for gas_type in gas_types if gas_type['value'] == str(gas_type_value))\n",
        "url_with_gas_type = f\"https://www.eex.com/en/market-data/natural-gas/futures#%7B%22snippetpicker%22%3A%22{gas_type_value}%22%7D\"\n",
        "response = requests.get(url_with_gas_type)\n",
        "soup = BeautifulSoup(response.content, 'html.parser')\n",
        "\n",
        "# Extract categories from the div tags with class name \"mv-button-base mv-hyperlink-button\"\n",
        "categories = []\n",
        "for div_tag in soup.find_all('div', {'class': 'mv-button-base mv-hyperlink-button'}):\n",
        "    categories.append(div_tag.text)\n",
        "\n",
        "# Create an Excel file and scrape data for each category\n",
        "with pd.ExcelWriter(f\"{selected_gas_type['name']}.xlsx\") as writer:\n",
        "    # Create a new sheet in the Excel file\n",
        "    pd.DataFrame().to_excel(writer, sheet_name=\"Sheet1\", index=False)\n",
        "\n",
        "    for category in categories:\n",
        "        # Extract table data for the current category\n",
        "        table_data = []\n",
        "        table_tag = soup.find('table', {'data-category': category})\n",
        "        for row in table_tag.find_all('tr'):\n",
        "            row_data = [cell.text for cell in row.find_all('td')]\n",
        "            table_data.append(row_data)\n",
        "\n",
        "        # Create a DataFrame from the table data\n",
        "        df = pd.DataFrame(table_data[1:], columns=table_data[0])\n",
        "\n",
        "        # Highlight the column names\n",
        "        df.style.set_properties(subset=pd.IndexSlice[0, :], **{'background-color': 'yellow'})\n",
        "\n",
        "        # Write the DataFrame to a separate sheet in the Excel file\n",
        "        df.to_excel(writer, sheet_name=category, index=False)\n",
        "\n",
        "print(f\"Data scraped and saved to {selected_gas_type['name']}.xlsx\")"
      ],
      "metadata": {
        "id": "V4-6HiUxHQ3x"
      },
      "execution_count": null,
      "outputs": []
    }
  ]
}