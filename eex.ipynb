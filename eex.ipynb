{
  "nbformat": 4,
  "nbformat_minor": 0,
  "metadata": {
    "colab": {
      "provenance": [],
      "authorship_tag": "ABX9TyOag9hX3kdFUCDA/IkkVa/d",
      "include_colab_link": true
    },
    "kernelspec": {
      "name": "python3",
      "display_name": "Python 3"
    },
    "language_info": {
      "name": "python"
    }
  },
  "cells": [
    {
      "cell_type": "markdown",
      "metadata": {
        "id": "view-in-github",
        "colab_type": "text"
      },
      "source": [
        "<a href=\"https://colab.research.google.com/github/BhuvanKalyanGV/Web_scapping/blob/main/eex.ipynb\" target=\"_parent\"><img src=\"https://colab.research.google.com/assets/colab-badge.svg\" alt=\"Open In Colab\"/></a>"
      ]
    },
    {
      "cell_type": "code",
      "execution_count": null,
      "metadata": {
        "id": "am6-ii0lGbiH"
      },
      "outputs": [],
      "source": [
        "!pip install selenium\n",
        "!apt-get update\n",
        "!apt-get install -y chromium-chromedriver\n",
        "\n"
      ]
    },
    {
      "cell_type": "code",
      "source": [
        "!pip install webdriver_manager"
      ],
      "metadata": {
        "id": "jWwBfhM_GjHa"
      },
      "execution_count": null,
      "outputs": []
    },
    {
      "cell_type": "code",
      "source": [
        "import requests\n",
        "from bs4 import BeautifulSoup\n",
        "import pandas as pd\n",
        "from selenium import webdriver\n",
        "from selenium.webdriver.common.keys import Keys\n",
        "from selenium.webdriver.support.ui import WebDriverWait\n",
        "from selenium.webdriver.support import expected_conditions as EC\n",
        "from selenium.webdriver.common.by import By\n",
        "from selenium.webdriver.chrome.service import Service\n",
        "from webdriver_manager.chrome import ChromeDriverManager\n",
        "import time\n",
        "\n",
        "# Fetch gas types and values using BeautifulSoup\n",
        "url = 'https://www.eex.com/en/market-data/natural-gas/futures'\n",
        "response = requests.get(url)\n",
        "soup = BeautifulSoup(response.text, 'html.parser')\n",
        "gas_types = []\n",
        "gas_values = soup.find('select', {'class': 'selectpicker'}).find_all('option')\n",
        "for gas in gas_values:\n",
        "    gas_types.append({\n",
        "        \"name\": gas.text,\n",
        "        \"value\": gas.get('value')\n",
        "    })\n",
        "\n",
        "# Print gas types and values\n",
        "print(\"Gas types:\")\n",
        "for gas in gas_types:\n",
        "    print(f\"{gas['name']} ({gas['value']})\")\n",
        "\n",
        "# Get user input for gas type and date\n",
        "gas_value = input(\"Enter the value of the gas type: \")\n",
        "date = input(\"Enter the date (yyyy-mm-dd): \")\n",
        "\n",
        "# Format URL with selected gas type\n",
        "url = f'https://www.eex.com/en/market-data/natural-gas/futures#%7B%22snippetpicker%22%3A%22{gas_value}%22%7D'\n",
        "\n",
        "# Use Selenium to input date and search\n",
        "options = webdriver.ChromeOptions()\n",
        "options.add_argument('--headless')\n",
        "options.add_argument('--no-sandbox')\n",
        "options.add_argument('--disable-dev-shm-usage')\n",
        "\n",
        "driver = webdriver.Chrome(service=Service(ChromeDriverManager().install()), options=options)\n",
        "\n",
        "driver.get(url)\n",
        "\n",
        "# Input date\n",
        "date_input = WebDriverWait(driver, 10).until(EC.element_to_be_clickable((By.CSS_SELECTOR, \"input#date\")))\n",
        "date_input.clear()\n",
        "date_input.send_keys(date)\n",
        "date_input.send_keys(Keys.RETURN)\n",
        "time.sleep(1)\n",
        "\n",
        "# Click on category\n",
        "category_buttons = WebDriverWait(driver, 10).until(EC.presence_of_all_elements_located((By.CSS_SELECTOR, \"div.mv-button-group.mv-stack-block.mv-hyperlink-group div.mv-button-base.mv-hyperlink-button.mv-item-selected\")))\n",
        "for button in category_buttons:\n",
        "    button.click()\n",
        "    time.sleep(1)\n",
        "\n",
        "# Scrape table\n",
        "table = WebDriverWait(driver, 10).until(EC.presence_of_element_located((By.CSS_SELECTOR, \"table.mv-quote\")))\n",
        "headers = [th.text for th in table.find_elements_by_css_selector(\"thead tr th\")]\n",
        "rows = []\n",
        "for tr in table.find_elements_by_css_selector(\"tbody tr\"):\n",
        "    rows.append([td.text for td in tr.find_elements_by_css_selector(\"td\")])\n",
        "df = pd.DataFrame(rows, columns=headers)\n",
        "\n",
        "print(df)\n",
        "\n",
        "df.to_excel('output.xlsx', index=False)\n",
        "\n",
        "driver.quit()"
      ],
      "metadata": {
        "id": "schOl9RtGlal"
      },
      "execution_count": null,
      "outputs": []
    }
  ]
}