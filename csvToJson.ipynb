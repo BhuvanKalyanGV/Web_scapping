{
  "nbformat": 4,
  "nbformat_minor": 0,
  "metadata": {
    "colab": {
      "provenance": [],
      "authorship_tag": "ABX9TyPB5d/woC4K01yQBmEoxEtd",
      "include_colab_link": true
    },
    "kernelspec": {
      "name": "python3",
      "display_name": "Python 3"
    },
    "language_info": {
      "name": "python"
    }
  },
  "cells": [
    {
      "cell_type": "markdown",
      "metadata": {
        "id": "view-in-github",
        "colab_type": "text"
      },
      "source": [
        "<a href=\"https://colab.research.google.com/github/BhuvanKalyanGV/Web_scapping/blob/main/csvToJson.ipynb\" target=\"_parent\"><img src=\"https://colab.research.google.com/assets/colab-badge.svg\" alt=\"Open In Colab\"/></a>"
      ]
    },
    {
      "cell_type": "code",
      "execution_count": null,
      "metadata": {
        "id": "YVeyaSlGEOAN"
      },
      "outputs": [],
      "source": [
        "import csv\n",
        "import json\n",
        "import requests\n",
        "import io\n",
        "from google.colab import files\n",
        "\n",
        "# Download the CSV file from the provided URL\n",
        "url = \"https://drive.google.com/uc?id=13a2WyLoGxQKXbN_AIjrOogIlQKNe9uPm&export=download\"\n",
        "response = requests.get(url)\n",
        "\n",
        "# Create a file-like object from the response text\n",
        "wrapped_response = io.StringIO(response.text)\n",
        "\n",
        "# Load the CSV file into a list of dictionaries\n",
        "reader = csv.DictReader(wrapped_response)\n",
        "data = [row for row in reader]\n",
        "\n",
        "# Convert the data to JSON\n",
        "json_data = json.dumps(data, indent=4)\n",
        "\n",
        "# Create a file-like object from the JSON string\n",
        "with open('data.json', 'w') as f:\n",
        "    f.write(json_data)\n",
        "\n",
        "files.download('data.json')"
      ]
    }
  ]
}